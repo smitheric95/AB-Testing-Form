{
 "cells": [
  {
   "cell_type": "code",
   "execution_count": null,
   "metadata": {
    "collapsed": true
   },
   "outputs": [],
   "source": [
    "import numpy as np\n",
    "import pandas as pd\n",
    "from bs4 import BeautifulSoup\n",
    "from collections import Counter\n",
    "import matplotlib.pyplot as plt\n",
    "from collections import OrderedDict\n",
    "from textwrap import wrap"
   ]
  },
  {
   "cell_type": "code",
   "execution_count": null,
   "metadata": {},
   "outputs": [],
   "source": [
    "df = pd.read_json('./Data/db_export.csv', encoding='ISO-8859-1')\n",
    "df.info()\n",
    "df.head()\n",
    "# df.describe()"
   ]
  },
  {
   "cell_type": "markdown",
   "metadata": {},
   "source": [
    "First, we'll need to extract the questions and their choices from the webpage"
   ]
  },
  {
   "cell_type": "code",
   "execution_count": null,
   "metadata": {
    "collapsed": true
   },
   "outputs": [],
   "source": [
    "# open the webpage to parse for questions\n",
    "with open ('./../AB-Testing-Form/templates/index.phtml') as fp:\n",
    "    soup = BeautifulSoup(fp, 'html.parser')"
   ]
  },
  {
   "cell_type": "code",
   "execution_count": null,
   "metadata": {
    "collapsed": true
   },
   "outputs": [],
   "source": [
    "survey_questions = {}  # question : [choices]"
   ]
  },
  {
   "cell_type": "code",
   "execution_count": null,
   "metadata": {
    "collapsed": true
   },
   "outputs": [],
   "source": [
    "# for each page in the form\n",
    "pages = soup.find_all('div', class_='page')\n",
    "for p in range(len(pages)):\n",
    "    \n",
    "    if p > 0:  # ignore the first page\n",
    "        questions = pages[p].find_all('div', class_='row section')\n",
    "        \n",
    "        for q in questions:\n",
    "            # strip the number from the question\n",
    "            question_title = q.find('h5').contents[1]\n",
    "            \n",
    "            # option tags surrounding the choices\n",
    "            options = q.find('div', class_=\"input-field col s12 m8\"\n",
    "                            ).find('select').find_all('option')\n",
    "            \n",
    "            choices = []\n",
    "            \n",
    "            # keep track of those choices that aren't disabled\n",
    "            for o in options:\n",
    "                if 'disabled' not in str(o):\n",
    "                    choices.append(o.contents[0])\n",
    "\n",
    "            survey_questions[question_title] = choices "
   ]
  },
  {
   "cell_type": "code",
   "execution_count": null,
   "metadata": {},
   "outputs": [],
   "source": [
    "# list of dictionaries containing responses and their occurrences\n",
    "responses = []\n",
    "\n",
    "df_questions = df\n",
    "\n",
    "cols_to_remove = 4\n",
    "\n",
    "# remove those instances that weren't completed\n",
    "if 'dropout' in df.columns:\n",
    "    df_questions = df[df.dropout != 'true']\n",
    "    cols_to_remove += 2\n",
    "    \n",
    "# remove non-questions from the data\n",
    "df_questions = df_questions.iloc[:, :-cols_to_remove]  \n",
    "print(len(df_questions.columns))\n",
    "for column in df_questions:\n",
    "    col = df_questions[column]\n",
    "    \n",
    "    # questions with one option\n",
    "    if col.dtype == \"int64\":\n",
    "        responses.append(dict(sorted(Counter(col).items())))\n",
    "    else:  # questions with multiple values\n",
    "        # join the responses\n",
    "        combined_responses = [int(inner) for outer in col \n",
    "                              for inner in outer]\n",
    "        responses.append(dict(sorted(Counter(combined_responses).items())))"
   ]
  },
  {
   "cell_type": "code",
   "execution_count": null,
   "metadata": {
    "scrolled": true
   },
   "outputs": [],
   "source": [
    "responses"
   ]
  },
  {
   "cell_type": "code",
   "execution_count": null,
   "metadata": {},
   "outputs": [],
   "source": [
    "for r in range(len(responses)):\n",
    "    # total numbers of times options were chosen\n",
    "    totalled_answers = responses[r].values()\n",
    "    \n",
    "    # text of questions and answers\n",
    "    title = list(survey_questions.keys())[r]\n",
    "    choices = list(survey_questions.values())[r]\n",
    "    \n",
    "    selected_choices = []\n",
    "    \n",
    "    # remove the choices that were never selected\n",
    "    for c in range(1, len(choices)+1):\n",
    "        if c in sorted(responses[r].keys()):\n",
    "            selected_choices.append(choices[c-1])\n",
    "            \n",
    "    # wrap words if too long\n",
    "    selected_choices = [ '\\n'.join(wrap(sc, 19)) for sc in selected_choices ]\n",
    "            \n",
    "    # logic for building bar chart\n",
    "    y_pos = np.arange(len(selected_choices))\n",
    "    plt.figure(figsize=(17,7))\n",
    "    plt.bar(y_pos, totalled_answers, align='center')\n",
    "    plt.xticks(y_pos, selected_choices, size=14)\n",
    "    plt.xlabel('Answer choices', size=20)\n",
    "    plt.ylabel('Number of times selected', size=20)\n",
    "    plt.title(title, size=24)\n",
    "    \n",
    "    plt.show()\n",
    "\n",
    "# clean the plot object when done\n",
    "plt.clf()\n",
    "plt.cla()\n",
    "plt.close()"
   ]
  },
  {
   "cell_type": "code",
   "execution_count": null,
   "metadata": {
    "collapsed": true
   },
   "outputs": [],
   "source": [
    "dataset = [{'A':19, 'B':39, 'C':61, 'D':70},\n",
    "           {'A':34, 'B':68, 'C':32, 'D':38},\n",
    "           {'A':35, 'B':45, 'C':66, 'D':50},\n",
    "           {'A':23, 'B':23, 'C':21, 'D':16},\n",
    "           {'A':35, 'B':45, 'C':66, 'D':50}]\n",
    "            # row = answer choice\n",
    "            # key = color scheme\n",
    "            # value = number of people w that color\n",
    "            # who made that choice\n",
    "    \n",
    "data_orders = [['A', 'B', 'C', 'D'], \n",
    "               ['B', 'A', 'C', 'D'], \n",
    "               ['A', 'B', 'D', 'C'], \n",
    "               ['B', 'A', 'C', 'D'],\n",
    "               ['A', 'B', 'C', 'D']]"
   ]
  },
  {
   "cell_type": "code",
   "execution_count": null,
   "metadata": {},
   "outputs": [],
   "source": [
    "question_3_1 = df[['3_1', 'themeChosen']].groupby(\n",
    "    ['themeChosen', '3_1']).size()\n",
    "print(question_3_1)\n",
    "\n",
    "num_people = question_3_1.as_matrix()\n",
    "answer_choice = []\n",
    "color_scheme = []\n",
    "\n",
    "for i, j in question_3_1.index:\n",
    "    color_scheme.append(i)\n",
    "    answer_choice.append(j)\n",
    "\n",
    "print(list(num_people))\n",
    "print(answer_choice)\n",
    "print(color_scheme)\n",
    "\n",
    "data_set = []\n",
    "j = 0\n",
    "for i in list(set(answer_choice)):\n",
    "    cur_choice = []\n",
    "    while color_scheme[j] == i:\n",
    "        cur_choice.append(answer_choice[j])\n",
    "        \n",
    "        if j < len(color_scheme)-1:\n",
    "            j += 1\n",
    "    data_set.append(cur_choice)\n",
    "\n",
    "print(\"-------\")\n",
    "data_set"
   ]
  },
  {
   "cell_type": "code",
   "execution_count": null,
   "metadata": {},
   "outputs": [],
   "source": [
    "x = df[['3_1', 'themeChosen']].groupby(['themeChosen', '3_1']).size()\n",
    "x.index[4]"
   ]
  },
  {
   "cell_type": "code",
   "execution_count": null,
   "metadata": {},
   "outputs": [],
   "source": [
    "\n",
    "colors = [\"r\",\"g\",\"b\",\"y\"]\n",
    "names = sorted(dataset[0].keys())\n",
    "values = np.array([[data[name] for name in order] for data,order in zip(dataset, data_orders)])\n",
    "lefts = np.insert(np.cumsum(values, axis=1),0,0, axis=1)[:, :-1]\n",
    "orders = np.array(data_orders)\n",
    "bottoms = np.arange(len(data_orders))\n",
    "\n",
    "for name, color in zip(names, colors):\n",
    "    idx = np.where(orders == name)\n",
    "    value = values[idx]\n",
    "    left = lefts[idx]\n",
    "    plt.bar(left=left, height=0.8, width=value, bottom=bottoms, \n",
    "            color=color, orientation=\"horizontal\", label=name)\n",
    "plt.yticks(bottoms+0.4, [\"data %d\" % (t+1) for t in bottoms])\n",
    "plt.legend(loc=\"best\", bbox_to_anchor=(1.0, 1.00))\n",
    "plt.subplots_adjust(right=0.85)\n",
    "plt.show()\n",
    "\n",
    "# clean the plot object when done\n",
    "plt.clf()\n",
    "plt.cla()\n",
    "plt.close()"
   ]
  },
  {
   "cell_type": "code",
   "execution_count": null,
   "metadata": {
    "collapsed": true
   },
   "outputs": [],
   "source": []
  },
  {
   "cell_type": "code",
   "execution_count": null,
   "metadata": {
    "collapsed": true
   },
   "outputs": [],
   "source": []
  }
 ],
 "metadata": {
  "kernelspec": {
   "display_name": "Python [conda env:MachineLearning]",
   "language": "python",
   "name": "conda-env-MachineLearning-py"
  },
  "language_info": {
   "codemirror_mode": {
    "name": "ipython",
    "version": 3
   },
   "file_extension": ".py",
   "mimetype": "text/x-python",
   "name": "python",
   "nbconvert_exporter": "python",
   "pygments_lexer": "ipython3",
   "version": "3.6.2"
  }
 },
 "nbformat": 4,
 "nbformat_minor": 2
}
