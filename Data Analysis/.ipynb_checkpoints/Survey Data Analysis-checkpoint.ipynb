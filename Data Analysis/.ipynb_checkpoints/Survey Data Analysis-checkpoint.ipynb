{
 "cells": [
  {
   "cell_type": "code",
   "execution_count": 1,
   "metadata": {
    "collapsed": true
   },
   "outputs": [],
   "source": [
    "import numpy as np\n",
    "import pandas as pd\n",
    "from bs4 import BeautifulSoup\n",
    "from collections import Counter\n",
    "import matplotlib.pyplot as plt"
   ]
  },
  {
   "cell_type": "code",
   "execution_count": 2,
   "metadata": {},
   "outputs": [
    {
     "name": "stdout",
     "output_type": "stream",
     "text": [
      "<class 'pandas.core.frame.DataFrame'>\n",
      "Int64Index: 53 entries, 0 to 52\n",
      "Data columns (total 23 columns):\n",
      "1_1                      52 non-null float64\n",
      "1_2                      52 non-null float64\n",
      "1_3                      52 non-null float64\n",
      "1_4                      52 non-null float64\n",
      "1_5                      52 non-null float64\n",
      "1_6                      52 non-null object\n",
      "2_1                      52 non-null object\n",
      "2_2                      52 non-null float64\n",
      "2_3                      52 non-null float64\n",
      "2_4                      52 non-null float64\n",
      "3_1                      52 non-null float64\n",
      "3_2                      52 non-null float64\n",
      "3_3                      52 non-null float64\n",
      "3_4                      52 non-null float64\n",
      "3_5                      52 non-null float64\n",
      "3_6                      52 non-null float64\n",
      "3_7                      52 non-null float64\n",
      "computerButtonClicked    52 non-null float64\n",
      "currentPage              1 non-null float64\n",
      "dropout                  1 non-null object\n",
      "email                    53 non-null object\n",
      "themeChosen              53 non-null int64\n",
      "timeToComplete           52 non-null float64\n",
      "dtypes: float64(18), int64(1), object(4)\n",
      "memory usage: 9.9+ KB\n"
     ]
    },
    {
     "data": {
      "text/html": [
       "<div>\n",
       "<style>\n",
       "    .dataframe thead tr:only-child th {\n",
       "        text-align: right;\n",
       "    }\n",
       "\n",
       "    .dataframe thead th {\n",
       "        text-align: left;\n",
       "    }\n",
       "\n",
       "    .dataframe tbody tr th {\n",
       "        vertical-align: top;\n",
       "    }\n",
       "</style>\n",
       "<table border=\"1\" class=\"dataframe\">\n",
       "  <thead>\n",
       "    <tr style=\"text-align: right;\">\n",
       "      <th></th>\n",
       "      <th>1_1</th>\n",
       "      <th>1_2</th>\n",
       "      <th>1_3</th>\n",
       "      <th>1_4</th>\n",
       "      <th>1_5</th>\n",
       "      <th>1_6</th>\n",
       "      <th>2_1</th>\n",
       "      <th>2_2</th>\n",
       "      <th>2_3</th>\n",
       "      <th>2_4</th>\n",
       "      <th>...</th>\n",
       "      <th>3_4</th>\n",
       "      <th>3_5</th>\n",
       "      <th>3_6</th>\n",
       "      <th>3_7</th>\n",
       "      <th>computerButtonClicked</th>\n",
       "      <th>currentPage</th>\n",
       "      <th>dropout</th>\n",
       "      <th>email</th>\n",
       "      <th>themeChosen</th>\n",
       "      <th>timeToComplete</th>\n",
       "    </tr>\n",
       "  </thead>\n",
       "  <tbody>\n",
       "    <tr>\n",
       "      <th>0</th>\n",
       "      <td>2.0</td>\n",
       "      <td>1.0</td>\n",
       "      <td>1.0</td>\n",
       "      <td>2.0</td>\n",
       "      <td>2.0</td>\n",
       "      <td>[1, 2, 4, 5]</td>\n",
       "      <td>[1, 7]</td>\n",
       "      <td>1.0</td>\n",
       "      <td>2.0</td>\n",
       "      <td>2.0</td>\n",
       "      <td>...</td>\n",
       "      <td>4.0</td>\n",
       "      <td>3.0</td>\n",
       "      <td>2.0</td>\n",
       "      <td>1.0</td>\n",
       "      <td>0.0</td>\n",
       "      <td>NaN</td>\n",
       "      <td>NaN</td>\n",
       "      <td>tlkramer@smu.edu</td>\n",
       "      <td>3</td>\n",
       "      <td>51.131</td>\n",
       "    </tr>\n",
       "    <tr>\n",
       "      <th>1</th>\n",
       "      <td>1.0</td>\n",
       "      <td>1.0</td>\n",
       "      <td>1.0</td>\n",
       "      <td>1.0</td>\n",
       "      <td>1.0</td>\n",
       "      <td>[1, 3, 4, 5, 6]</td>\n",
       "      <td>[5]</td>\n",
       "      <td>2.0</td>\n",
       "      <td>2.0</td>\n",
       "      <td>2.0</td>\n",
       "      <td>...</td>\n",
       "      <td>4.0</td>\n",
       "      <td>3.0</td>\n",
       "      <td>2.0</td>\n",
       "      <td>1.0</td>\n",
       "      <td>0.0</td>\n",
       "      <td>NaN</td>\n",
       "      <td>NaN</td>\n",
       "      <td>dcsanchez@smu.edu</td>\n",
       "      <td>1</td>\n",
       "      <td>317.141</td>\n",
       "    </tr>\n",
       "    <tr>\n",
       "      <th>2</th>\n",
       "      <td>2.0</td>\n",
       "      <td>1.0</td>\n",
       "      <td>1.0</td>\n",
       "      <td>2.0</td>\n",
       "      <td>2.0</td>\n",
       "      <td>[1, 2, 4, 5]</td>\n",
       "      <td>[5]</td>\n",
       "      <td>1.0</td>\n",
       "      <td>2.0</td>\n",
       "      <td>2.0</td>\n",
       "      <td>...</td>\n",
       "      <td>3.0</td>\n",
       "      <td>2.0</td>\n",
       "      <td>3.0</td>\n",
       "      <td>1.0</td>\n",
       "      <td>0.0</td>\n",
       "      <td>NaN</td>\n",
       "      <td>NaN</td>\n",
       "      <td>ccjohnson@smu.edu</td>\n",
       "      <td>1</td>\n",
       "      <td>179.159</td>\n",
       "    </tr>\n",
       "    <tr>\n",
       "      <th>3</th>\n",
       "      <td>1.0</td>\n",
       "      <td>1.0</td>\n",
       "      <td>1.0</td>\n",
       "      <td>2.0</td>\n",
       "      <td>3.0</td>\n",
       "      <td>[1, 2, 4]</td>\n",
       "      <td>[7]</td>\n",
       "      <td>1.0</td>\n",
       "      <td>2.0</td>\n",
       "      <td>2.0</td>\n",
       "      <td>...</td>\n",
       "      <td>4.0</td>\n",
       "      <td>3.0</td>\n",
       "      <td>3.0</td>\n",
       "      <td>1.0</td>\n",
       "      <td>0.0</td>\n",
       "      <td>NaN</td>\n",
       "      <td>NaN</td>\n",
       "      <td>awoodruff@smu.edu</td>\n",
       "      <td>2</td>\n",
       "      <td>84.053</td>\n",
       "    </tr>\n",
       "    <tr>\n",
       "      <th>4</th>\n",
       "      <td>1.0</td>\n",
       "      <td>1.0</td>\n",
       "      <td>2.0</td>\n",
       "      <td>3.0</td>\n",
       "      <td>3.0</td>\n",
       "      <td>[1, 2, 4, 5]</td>\n",
       "      <td>[1, 4]</td>\n",
       "      <td>1.0</td>\n",
       "      <td>2.0</td>\n",
       "      <td>2.0</td>\n",
       "      <td>...</td>\n",
       "      <td>4.0</td>\n",
       "      <td>1.0</td>\n",
       "      <td>1.0</td>\n",
       "      <td>1.0</td>\n",
       "      <td>0.0</td>\n",
       "      <td>NaN</td>\n",
       "      <td>NaN</td>\n",
       "      <td>chalquist@smu.edu</td>\n",
       "      <td>3</td>\n",
       "      <td>73.996</td>\n",
       "    </tr>\n",
       "  </tbody>\n",
       "</table>\n",
       "<p>5 rows × 23 columns</p>\n",
       "</div>"
      ],
      "text/plain": [
       "   1_1  1_2  1_3  1_4  1_5              1_6     2_1  2_2  2_3  2_4  \\\n",
       "0  2.0  1.0  1.0  2.0  2.0     [1, 2, 4, 5]  [1, 7]  1.0  2.0  2.0   \n",
       "1  1.0  1.0  1.0  1.0  1.0  [1, 3, 4, 5, 6]     [5]  2.0  2.0  2.0   \n",
       "2  2.0  1.0  1.0  2.0  2.0     [1, 2, 4, 5]     [5]  1.0  2.0  2.0   \n",
       "3  1.0  1.0  1.0  2.0  3.0        [1, 2, 4]     [7]  1.0  2.0  2.0   \n",
       "4  1.0  1.0  2.0  3.0  3.0     [1, 2, 4, 5]  [1, 4]  1.0  2.0  2.0   \n",
       "\n",
       "       ...        3_4  3_5  3_6  3_7  computerButtonClicked  currentPage  \\\n",
       "0      ...        4.0  3.0  2.0  1.0                    0.0          NaN   \n",
       "1      ...        4.0  3.0  2.0  1.0                    0.0          NaN   \n",
       "2      ...        3.0  2.0  3.0  1.0                    0.0          NaN   \n",
       "3      ...        4.0  3.0  3.0  1.0                    0.0          NaN   \n",
       "4      ...        4.0  1.0  1.0  1.0                    0.0          NaN   \n",
       "\n",
       "   dropout              email  themeChosen timeToComplete  \n",
       "0      NaN   tlkramer@smu.edu            3         51.131  \n",
       "1      NaN  dcsanchez@smu.edu            1        317.141  \n",
       "2      NaN  ccjohnson@smu.edu            1        179.159  \n",
       "3      NaN  awoodruff@smu.edu            2         84.053  \n",
       "4      NaN  chalquist@smu.edu            3         73.996  \n",
       "\n",
       "[5 rows x 23 columns]"
      ]
     },
     "execution_count": 2,
     "metadata": {},
     "output_type": "execute_result"
    }
   ],
   "source": [
    "df = pd.read_json('./Data/db_export.csv', encoding='ISO-8859-1')\n",
    "df.info()\n",
    "df.head()\n",
    "# df.describe()"
   ]
  },
  {
   "cell_type": "markdown",
   "metadata": {},
   "source": [
    "First, we'll need to extract the questions and their choices from the webpage"
   ]
  },
  {
   "cell_type": "code",
   "execution_count": 3,
   "metadata": {
    "collapsed": true
   },
   "outputs": [],
   "source": [
    "# open the webpage to parse for questions\n",
    "with open ('./../AB-Testing-Form/templates/index.phtml') as fp:\n",
    "    soup = BeautifulSoup(fp, 'html.parser')"
   ]
  },
  {
   "cell_type": "code",
   "execution_count": 4,
   "metadata": {
    "collapsed": true
   },
   "outputs": [],
   "source": [
    "survey_questions = {}  # question : [choices]"
   ]
  },
  {
   "cell_type": "code",
   "execution_count": 5,
   "metadata": {
    "collapsed": true
   },
   "outputs": [],
   "source": [
    "# for each page in the form\n",
    "pages = soup.find_all('div', class_='page')\n",
    "for p in range(len(pages)):\n",
    "    \n",
    "    if p > 0:  # ignore the first page\n",
    "        questions = pages[p].find_all('div', class_='row section')\n",
    "        \n",
    "        for q in questions:\n",
    "            # strip the number from the question\n",
    "            question_title = q.find('h5').contents[1]\n",
    "            \n",
    "            # option tags surrounding the choices\n",
    "            options = q.find('div', class_=\"input-field col s12 m8\"\n",
    "                            ).find('select').find_all('option')\n",
    "            \n",
    "            choices = []\n",
    "            \n",
    "            # keep track of those choices that aren't disabled\n",
    "            for o in options:\n",
    "                if 'disabled' not in str(o):\n",
    "                    choices.append(o.contents[0])\n",
    "\n",
    "            survey_questions[question_title] = choices "
   ]
  },
  {
   "cell_type": "code",
   "execution_count": 6,
   "metadata": {},
   "outputs": [
    {
     "data": {
      "text/plain": [
       "1_1                               NaN\n",
       "1_2                               NaN\n",
       "1_3                               NaN\n",
       "1_4                               NaN\n",
       "1_5                               NaN\n",
       "1_6                               NaN\n",
       "2_1                               NaN\n",
       "2_2                               NaN\n",
       "2_3                               NaN\n",
       "2_4                               NaN\n",
       "3_1                               NaN\n",
       "3_2                               NaN\n",
       "3_3                               NaN\n",
       "3_4                               NaN\n",
       "3_5                               NaN\n",
       "3_6                               NaN\n",
       "3_7                               NaN\n",
       "computerButtonClicked             NaN\n",
       "currentPage                         1\n",
       "dropout                          true\n",
       "email                    eric@smu.edu\n",
       "themeChosen                         3\n",
       "timeToComplete                    NaN\n",
       "Name: 6, dtype: object"
      ]
     },
     "execution_count": 6,
     "metadata": {},
     "output_type": "execute_result"
    }
   ],
   "source": [
    "# example of dropout\n",
    "df.iloc[6]"
   ]
  },
  {
   "cell_type": "code",
   "execution_count": 7,
   "metadata": {
    "collapsed": true
   },
   "outputs": [],
   "source": [
    "# list of dictionaries containing responses and their occurrences\n",
    "responses = []\n",
    "\n",
    "# remove those instances that weren't completed\n",
    "df_questions = df[df.dropout != 'true']\n",
    "\n",
    "# remove non-questions from the data\n",
    "df_questions = df_questions.iloc[:, :-6]  \n",
    "\n",
    "for column in df_questions:\n",
    "    col = df_questions[column]\n",
    "    \n",
    "    # questions with one option\n",
    "    if col.dtype == \"float64\":\n",
    "        responses.append(dict(Counter(col)))\n",
    "    else:  # questions with multiple values\n",
    "        \n",
    "        # join the responses\n",
    "        combined_responses = [int(inner) for outer in col \n",
    "                              for inner in outer]\n",
    "        responses.append(dict(Counter(combined_responses)))"
   ]
  },
  {
   "cell_type": "code",
   "execution_count": 8,
   "metadata": {},
   "outputs": [
    {
     "data": {
      "text/plain": [
       "[{1.0: 36, 2.0: 15, 3.0: 1},\n",
       " {1.0: 36, 2.0: 16},\n",
       " {1.0: 47, 2.0: 5},\n",
       " {1.0: 12, 2.0: 33, 3.0: 7},\n",
       " {1.0: 21, 2.0: 23, 3.0: 8},\n",
       " {1: 52, 2: 38, 3: 18, 4: 47, 5: 49, 6: 9},\n",
       " {1: 21, 3: 4, 4: 14, 5: 19, 7: 2},\n",
       " {1.0: 48, 2.0: 4},\n",
       " {1.0: 10, 2.0: 40, 3.0: 2},\n",
       " {1.0: 20, 2.0: 30, 3.0: 1, 4.0: 1},\n",
       " {1.0: 3, 2.0: 9, 3.0: 19, 4.0: 21},\n",
       " {1.0: 1, 2.0: 2, 3.0: 12, 4.0: 37},\n",
       " {1.0: 1, 2.0: 5, 3.0: 46},\n",
       " {1.0: 1, 2.0: 3, 3.0: 3, 4.0: 45},\n",
       " {1.0: 12, 2.0: 11, 3.0: 28, 4.0: 1},\n",
       " {1.0: 5, 2.0: 17, 3.0: 19, 4.0: 11},\n",
       " {1.0: 49, 2.0: 2, 3.0: 1}]"
      ]
     },
     "execution_count": 8,
     "metadata": {},
     "output_type": "execute_result"
    }
   ],
   "source": [
    "responses"
   ]
  },
  {
   "cell_type": "code",
   "execution_count": 10,
   "metadata": {},
   "outputs": [
    {
     "name": "stdout",
     "output_type": "stream",
     "text": [
      "1 is in dict_keys([2.0, 1.0, 3.0])\n",
      "2 is in dict_keys([2.0, 1.0, 3.0])\n",
      "3 is in dict_keys([2.0, 1.0, 3.0])\n"
     ]
    },
    {
     "data": {
      "image/png": "[encoded data removed]",
      "text/plain": [
       "<matplotlib.figure.Figure at 0x1182ea518>"
      ]
     },
     "metadata": {},
     "output_type": "display_data"
    },
    {
     "data": {
      "image/png": "[encoded data removed]",
      "text/plain": [
       "<matplotlib.figure.Figure at 0x1189d71d0>"
      ]
     },
     "metadata": {},
     "output_type": "display_data"
    },
    {
     "name": "stdout",
     "output_type": "stream",
     "text": [
      "1 is in dict_keys([1.0, 2.0])\n",
      "2 is in dict_keys([1.0, 2.0])\n"
     ]
    },
    {
     "ename": "ValueError",
     "evalue": "incompatible sizes: argument 'height' must be length 5 or scalar",
     "output_type": "error",
     "traceback": [
      "\u001b[0;31m---------------------------------------------------------------------------\u001b[0m",
      "\u001b[0;31mValueError\u001b[0m                                Traceback (most recent call last)",
      "\u001b[0;32m<ipython-input-10-0578143bc135>\u001b[0m in \u001b[0;36m<module>\u001b[0;34m()\u001b[0m\n\u001b[1;32m     18\u001b[0m     \u001b[0my_pos\u001b[0m \u001b[0;34m=\u001b[0m \u001b[0mnp\u001b[0m\u001b[0;34m.\u001b[0m\u001b[0marange\u001b[0m\u001b[0;34m(\u001b[0m\u001b[0mlen\u001b[0m\u001b[0;34m(\u001b[0m\u001b[0mchoices\u001b[0m\u001b[0;34m)\u001b[0m\u001b[0;34m)\u001b[0m\u001b[0;34m\u001b[0m\u001b[0m\n\u001b[1;32m     19\u001b[0m     \u001b[0mplt\u001b[0m\u001b[0;34m.\u001b[0m\u001b[0mfigure\u001b[0m\u001b[0;34m(\u001b[0m\u001b[0mfigsize\u001b[0m\u001b[0;34m=\u001b[0m\u001b[0;34m(\u001b[0m\u001b[0;36m10\u001b[0m\u001b[0;34m,\u001b[0m\u001b[0;36m5\u001b[0m\u001b[0;34m)\u001b[0m\u001b[0;34m)\u001b[0m\u001b[0;34m\u001b[0m\u001b[0m\n\u001b[0;32m---> 20\u001b[0;31m     \u001b[0mplt\u001b[0m\u001b[0;34m.\u001b[0m\u001b[0mbar\u001b[0m\u001b[0;34m(\u001b[0m\u001b[0my_pos\u001b[0m\u001b[0;34m,\u001b[0m \u001b[0mtotalled_answers\u001b[0m\u001b[0;34m,\u001b[0m \u001b[0malign\u001b[0m\u001b[0;34m=\u001b[0m\u001b[0;34m'center'\u001b[0m\u001b[0;34m)\u001b[0m\u001b[0;34m\u001b[0m\u001b[0m\n\u001b[0m\u001b[1;32m     21\u001b[0m     \u001b[0mplt\u001b[0m\u001b[0;34m.\u001b[0m\u001b[0mxticks\u001b[0m\u001b[0;34m(\u001b[0m\u001b[0my_pos\u001b[0m\u001b[0;34m,\u001b[0m \u001b[0mchoices\u001b[0m\u001b[0;34m)\u001b[0m\u001b[0;34m\u001b[0m\u001b[0m\n\u001b[1;32m     22\u001b[0m     \u001b[0mplt\u001b[0m\u001b[0;34m.\u001b[0m\u001b[0mxlabel\u001b[0m\u001b[0;34m(\u001b[0m\u001b[0;34m'Answer choices'\u001b[0m\u001b[0;34m)\u001b[0m\u001b[0;34m\u001b[0m\u001b[0m\n",
      "\u001b[0;32m~/anaconda/envs/MachineLearning/lib/python3.6/site-packages/matplotlib/pyplot.py\u001b[0m in \u001b[0;36mbar\u001b[0;34m(left, height, width, bottom, hold, data, **kwargs)\u001b[0m\n\u001b[1;32m   2702\u001b[0m     \u001b[0;32mtry\u001b[0m\u001b[0;34m:\u001b[0m\u001b[0;34m\u001b[0m\u001b[0m\n\u001b[1;32m   2703\u001b[0m         ret = ax.bar(left, height, width=width, bottom=bottom, data=data,\n\u001b[0;32m-> 2704\u001b[0;31m                      **kwargs)\n\u001b[0m\u001b[1;32m   2705\u001b[0m     \u001b[0;32mfinally\u001b[0m\u001b[0;34m:\u001b[0m\u001b[0;34m\u001b[0m\u001b[0m\n\u001b[1;32m   2706\u001b[0m         \u001b[0max\u001b[0m\u001b[0;34m.\u001b[0m\u001b[0m_hold\u001b[0m \u001b[0;34m=\u001b[0m \u001b[0mwashold\u001b[0m\u001b[0;34m\u001b[0m\u001b[0m\n",
      "\u001b[0;32m~/anaconda/envs/MachineLearning/lib/python3.6/site-packages/matplotlib/__init__.py\u001b[0m in \u001b[0;36minner\u001b[0;34m(ax, *args, **kwargs)\u001b[0m\n\u001b[1;32m   1896\u001b[0m                     warnings.warn(msg % (label_namer, func.__name__),\n\u001b[1;32m   1897\u001b[0m                                   RuntimeWarning, stacklevel=2)\n\u001b[0;32m-> 1898\u001b[0;31m             \u001b[0;32mreturn\u001b[0m \u001b[0mfunc\u001b[0m\u001b[0;34m(\u001b[0m\u001b[0max\u001b[0m\u001b[0;34m,\u001b[0m \u001b[0;34m*\u001b[0m\u001b[0margs\u001b[0m\u001b[0;34m,\u001b[0m \u001b[0;34m**\u001b[0m\u001b[0mkwargs\u001b[0m\u001b[0;34m)\u001b[0m\u001b[0;34m\u001b[0m\u001b[0m\n\u001b[0m\u001b[1;32m   1899\u001b[0m         \u001b[0mpre_doc\u001b[0m \u001b[0;34m=\u001b[0m \u001b[0minner\u001b[0m\u001b[0;34m.\u001b[0m\u001b[0m__doc__\u001b[0m\u001b[0;34m\u001b[0m\u001b[0m\n\u001b[1;32m   1900\u001b[0m         \u001b[0;32mif\u001b[0m \u001b[0mpre_doc\u001b[0m \u001b[0;32mis\u001b[0m \u001b[0;32mNone\u001b[0m\u001b[0;34m:\u001b[0m\u001b[0;34m\u001b[0m\u001b[0m\n",
      "\u001b[0;32m~/anaconda/envs/MachineLearning/lib/python3.6/site-packages/matplotlib/axes/_axes.py\u001b[0m in \u001b[0;36mbar\u001b[0;34m(self, left, height, width, bottom, **kwargs)\u001b[0m\n\u001b[1;32m   2077\u001b[0m         \u001b[0;32mif\u001b[0m \u001b[0mlen\u001b[0m\u001b[0;34m(\u001b[0m\u001b[0mheight\u001b[0m\u001b[0;34m)\u001b[0m \u001b[0;34m!=\u001b[0m \u001b[0mnbars\u001b[0m\u001b[0;34m:\u001b[0m\u001b[0;34m\u001b[0m\u001b[0m\n\u001b[1;32m   2078\u001b[0m             raise ValueError(\"incompatible sizes: argument 'height' \"\n\u001b[0;32m-> 2079\u001b[0;31m                               \"must be length %d or scalar\" % nbars)\n\u001b[0m\u001b[1;32m   2080\u001b[0m         \u001b[0;32mif\u001b[0m \u001b[0mlen\u001b[0m\u001b[0;34m(\u001b[0m\u001b[0mwidth\u001b[0m\u001b[0;34m)\u001b[0m \u001b[0;34m!=\u001b[0m \u001b[0mnbars\u001b[0m\u001b[0;34m:\u001b[0m\u001b[0;34m\u001b[0m\u001b[0m\n\u001b[1;32m   2081\u001b[0m             raise ValueError(\"incompatible sizes: argument 'width' \"\n",
      "\u001b[0;31mValueError\u001b[0m: incompatible sizes: argument 'height' must be length 5 or scalar"
     ]
    }
   ],
   "source": [
    "for r in range(len(responses)):\n",
    "    # total numbers of times options were chosen\n",
    "    totalled_answers = responses[r].values()\n",
    "    \n",
    "    # text of questions and answers\n",
    "    title = list(survey_questions.keys())[r]\n",
    "    choices = list(survey_questions.values())[r]\n",
    "    \n",
    "    selected_choices = []\n",
    "    \n",
    "    # remove the choices that were never selected\n",
    "    for c in range(1, len(choices)+1):\n",
    "        if c in sorted(responses[r].keys()):\n",
    "            print(str(c) + \" is in \" + str(sorted(responses[r].keys())))\n",
    "            selected_choices.append(choices[c-1])\n",
    "            \n",
    "    # logic for building bar chart\n",
    "    y_pos = np.arange(len(choices))\n",
    "    plt.figure(figsize=(10,5))\n",
    "    plt.bar(y_pos, totalled_answers, align='center')\n",
    "    plt.xticks(y_pos, choices)\n",
    "    plt.xlabel('Answer choices')\n",
    "    plt.ylabel('Number of times selected')\n",
    "    plt.title(title)\n",
    "    \n",
    "    plt.show()"
   ]
  },
  {
   "cell_type": "code",
   "execution_count": null,
   "metadata": {
    "collapsed": true
   },
   "outputs": [],
   "source": []
  }
 ],
 "metadata": {
  "kernelspec": {
   "display_name": "Python [conda env:MachineLearning]",
   "language": "python",
   "name": "conda-env-MachineLearning-py"
  },
  "language_info": {
   "codemirror_mode": {
    "name": "ipython",
    "version": 3
   },
   "file_extension": ".py",
   "mimetype": "text/x-python",
   "name": "python",
   "nbconvert_exporter": "python",
   "pygments_lexer": "ipython3",
   "version": "3.6.2"
  }
 },
 "nbformat": 4,
 "nbformat_minor": 2
}
